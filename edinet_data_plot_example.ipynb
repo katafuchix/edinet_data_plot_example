{
  "nbformat": 4,
  "nbformat_minor": 0,
  "metadata": {
    "colab": {
      "provenance": []
    },
    "kernelspec": {
      "name": "python3",
      "display_name": "Python 3"
    },
    "language_info": {
      "name": "python"
    }
  },
  "cells": [
    {
      "cell_type": "markdown",
      "source": [
        "###Chromeインストール"
      ],
      "metadata": {
        "id": "pajYxG_JOLVI"
      }
    },
    {
      "cell_type": "code",
      "execution_count": 2,
      "metadata": {
        "colab": {
          "base_uri": "https://localhost:8080/"
        },
        "id": "dCpy7y-DOGCC",
        "outputId": "065091fb-8325-43b8-eea7-0c80580ed70c"
      },
      "outputs": [
        {
          "output_type": "execute_result",
          "data": {
            "text/plain": []
          },
          "metadata": {},
          "execution_count": 2
        }
      ],
      "source": [
        "%%shell\n",
        "\n",
        "cat > /etc/apt/sources.list.d/debian.list <<'EOF'\n",
        "deb [arch=amd64 signed-by=/usr/share/keyrings/debian-buster.gpg] http://deb.debian.org/debian buster main\n",
        "deb [arch=amd64 signed-by=/usr/share/keyrings/debian-buster-updates.gpg] http://deb.debian.org/debian buster-updates main\n",
        "deb [arch=amd64 signed-by=/usr/share/keyrings/debian-security-buster.gpg] http://deb.debian.org/debian-security buster/updates main\n",
        "EOF"
      ]
    },
    {
      "cell_type": "code",
      "source": [
        "!apt-key adv --keyserver keyserver.ubuntu.com --recv-keys DCC9EFBF77E11517\n",
        "!apt-key adv --keyserver keyserver.ubuntu.com --recv-keys 648ACFD622F3D138\n",
        "!apt-key adv --keyserver keyserver.ubuntu.com --recv-keys 112695A0E562B32A\n",
        "\n",
        "!apt-key export 77E11517 | gpg --dearmour -o /usr/share/keyrings/debian-buster.gpg\n",
        "!apt-key export 22F3D138 | gpg --dearmour -o /usr/share/keyrings/debian-buster-updates.gpg\n",
        "!apt-key export E562B32A | gpg --dearmour -o /usr/share/keyrings/debian-security-buster.gpg"
      ],
      "metadata": {
        "id": "1CgcW8wYObiJ",
        "colab": {
          "base_uri": "https://localhost:8080/"
        },
        "outputId": "31fb2c26-a63c-479f-eeb3-51d5a9358454"
      },
      "execution_count": 3,
      "outputs": [
        {
          "output_type": "stream",
          "name": "stdout",
          "text": [
            "Executing: /tmp/apt-key-gpghome.Ja7DliXyl5/gpg.1.sh --keyserver keyserver.ubuntu.com --recv-keys DCC9EFBF77E11517\n",
            "gpg: key DCC9EFBF77E11517: public key \"Debian Stable Release Key (10/buster) <debian-release@lists.debian.org>\" imported\n",
            "gpg: Total number processed: 1\n",
            "gpg:               imported: 1\n",
            "Executing: /tmp/apt-key-gpghome.NNorlY0asK/gpg.1.sh --keyserver keyserver.ubuntu.com --recv-keys 648ACFD622F3D138\n",
            "gpg: key DC30D7C23CBBABEE: public key \"Debian Archive Automatic Signing Key (10/buster) <ftpmaster@debian.org>\" imported\n",
            "gpg: Total number processed: 1\n",
            "gpg:               imported: 1\n",
            "Executing: /tmp/apt-key-gpghome.20lvaFXCu0/gpg.1.sh --keyserver keyserver.ubuntu.com --recv-keys 112695A0E562B32A\n",
            "gpg: key 4DFAB270CAA96DFA: public key \"Debian Security Archive Automatic Signing Key (10/buster) <ftpmaster@debian.org>\" imported\n",
            "gpg: Total number processed: 1\n",
            "gpg:               imported: 1\n",
            "Warning: apt-key output should not be parsed (stdout is not a terminal)\n",
            "Warning: apt-key output should not be parsed (stdout is not a terminal)\n",
            "Warning: apt-key output should not be parsed (stdout is not a terminal)\n"
          ]
        }
      ]
    },
    {
      "cell_type": "code",
      "source": [
        "!apt-get update\n",
        "!apt-get install chromium chromium-driver"
      ],
      "metadata": {
        "id": "PbrOILpkOfRu"
      },
      "execution_count": null,
      "outputs": []
    },
    {
      "cell_type": "markdown",
      "source": [
        "###selenium インストール"
      ],
      "metadata": {
        "id": "VqSHerMbOl1Y"
      }
    },
    {
      "cell_type": "code",
      "source": [
        "!pip install selenium"
      ],
      "metadata": {
        "id": "p8p8Uf7sOkwg"
      },
      "execution_count": null,
      "outputs": []
    },
    {
      "cell_type": "markdown",
      "source": [
        "###edinetから過去１年分の四半期決算データをダウンロード"
      ],
      "metadata": {
        "id": "uwB-y6OTO6oZ"
      }
    },
    {
      "cell_type": "code",
      "source": [
        "from selenium import webdriver\n",
        "from selenium.webdriver.common.by import By\n",
        "from selenium.webdriver.common.keys import Keys\n",
        "from selenium.webdriver.support.select import Select\n",
        "import time\n",
        "import os\n",
        "import shutil\n",
        "\n",
        "files = os.listdir('.')\n",
        "for file in files:\n",
        "  if file.find('Xbrl') == -1:\n",
        "    continue\n",
        "  if os.path.isfile(file):\n",
        "    os.remove(file)\n",
        "  if os.path.isdir(file):\n",
        "    shutil.rmtree(file)\n",
        "\n",
        "options = webdriver.ChromeOptions()\n",
        "options.add_argument('--headless')\n",
        "options.add_argument('--no-sandbox')\n",
        "options.add_argument('--disable-dev-shm-usage')\n",
        "driver = webdriver.Chrome('chromedriver', options=options)\n",
        "driver.implicitly_wait(10)\n",
        "\n",
        "target_url = \"https://disclosure2.edinet-fsa.go.jp/\"\n",
        "driver.get(target_url)\n",
        "time.sleep(3)\n",
        "\n",
        "element = driver.find_element(By.ID, \"W0018vD_KEYWORD\")\n",
        "#element.send_keys(\"エディア\")\n",
        "#element.send_keys(\"ロコンド\")\n",
        "#element.send_keys(\"セプテーニ\")\n",
        "word = \"日機装\"\n",
        "word = \"6619\"\n",
        "element.send_keys(word)\n",
        "time.sleep(3)\n",
        "\n",
        "select_elem = driver.find_element(By.ID, \"W0018vD_KIKAN\")\n",
        "Select(select_elem).select_by_visible_text(\"過去１年\")\n",
        "time.sleep(3)\n",
        "\n",
        "button = driver.find_element(By.ID, \"W0018BTNBTN_SEARCH\")\n",
        "button.click()\n",
        "time.sleep(5)\n",
        "\n",
        "table = driver.find_element(By.ID, \"GridContainerTbl\")\n",
        "trs = table.find_elements(By.TAG_NAME, 'tr')\n",
        "for tr in trs[1:]:\n",
        "    try:\n",
        "      tds = tr.find_elements(By.TAG_NAME, 'td')\n",
        "      print(tds[0].text)\n",
        "      print(tds[1].text)\n",
        "      tds[6].find_element(By.TAG_NAME, 'a').click()\n",
        "    except:\n",
        "      continue\n",
        "    time.sleep(3)"
      ],
      "metadata": {
        "colab": {
          "base_uri": "https://localhost:8080/"
        },
        "id": "0968HL-TO0WC",
        "outputId": "b8f5ccef-d703-4be0-a4db-c171e57c05af"
      },
      "execution_count": 7,
      "outputs": [
        {
          "output_type": "stream",
          "name": "stdout",
          "text": [
            "2023/03/31 11:37\n",
            "有価証券報告書－第18期(2022/01/01－2022/12/31)\n",
            "2022/11/14 10:29\n",
            "四半期報告書－第18期第3四半期(2022/07/01－2022/09/30)\n",
            "2022/10/19 16:05\n",
            "訂正四半期報告書－第18期第2四半期(2022/04/01－2022/06/30)\n",
            "2022/10/19 16:03\n",
            "訂正四半期報告書－第18期第1四半期(2022/01/01－2022/03/31)\n",
            "2022/10/19 16:01\n",
            "訂正有価証券報告書－第17期(2021/01/01－2021/12/31)\n",
            "2022/10/19 16:00\n",
            "訂正四半期報告書－第17期第3四半期(2021/07/01－2021/09/30)\n",
            "2022/08/15 13:33\n",
            "四半期報告書－第18期第2四半期(2022/04/01－2022/06/30)\n",
            "2022/10/19 16:05\n",
            "└　訂正四半期報告書－第18期第2四半期(2022/04/01－2022/06/30)\n",
            "2022/05/13 10:40\n",
            "四半期報告書－第18期第1四半期(2022/01/01－2022/03/31)\n",
            "2022/10/19 16:03\n",
            "└　訂正四半期報告書－第18期第1四半期(2022/01/01－2022/03/31)\n"
          ]
        }
      ]
    },
    {
      "cell_type": "markdown",
      "source": [
        "###zipファイル解凍"
      ],
      "metadata": {
        "id": "WWXia6izPUf3"
      }
    },
    {
      "cell_type": "code",
      "source": [
        "import os\n",
        "import zipfile\n",
        "\n",
        "path = \".\"\n",
        "\n",
        "# ファイル一覧を取得\n",
        "files = os.listdir(path)\n",
        "for file in files:\n",
        "  if file.find('.zip') == -1:\n",
        "    continue\n",
        "  \n",
        "  try:\n",
        "      # zipファイル解凍\n",
        "      extract_dir_name = file.replace('.zip', '')\n",
        "      with zipfile.ZipFile(file) as existing_zip:\n",
        "          existing_zip.extractall(extract_dir_name)\n",
        "  except:\n",
        "    continue"
      ],
      "metadata": {
        "id": "_M_teVTrPPYP"
      },
      "execution_count": 8,
      "outputs": []
    },
    {
      "cell_type": "markdown",
      "source": [
        "###４半期短期決算の営業利益データを取得"
      ],
      "metadata": {
        "id": "nTwcsxiMPpPa"
      }
    },
    {
      "cell_type": "markdown",
      "source": [
        "####・zip解凍フォルダからhtmファイルを取得 → 本年度と前年度の営業利益を取得"
      ],
      "metadata": {
        "id": "7M1ObmPdPvVt"
      }
    },
    {
      "cell_type": "code",
      "source": [
        "import glob\n",
        "\n",
        "def get_values(xbrl_dir_name):\n",
        "  # zip解凍フォルダからhtmファイルを取得\n",
        "  files = os.listdir(xbrl_dir_name)\n",
        "  dir_name = [file for file in files if os.path.isdir(xbrl_dir_name + '/' + file)][0]\n",
        "\n",
        "  dir_path = f'{xbrl_dir_name}/{dir_name}'\n",
        "  file_dir = f'{dir_path}/XBRL/PublicDoc/*'\n",
        "  files = glob.glob(file_dir)\n",
        "  html_files = [file for file in files if file.find('.htm') > 0]\n",
        "  return get_html_values(html_files)"
      ],
      "metadata": {
        "id": "JICRq_dFP3Ey"
      },
      "execution_count": 9,
      "outputs": []
    },
    {
      "cell_type": "code",
      "source": [
        "from bs4 import BeautifulSoup\n",
        "\n",
        "def get_html_values(html_files):\n",
        "  term = \"\"\n",
        "  value = \"\"\n",
        "  pre_term = \"\"\n",
        "  pre_value = \"\"\n",
        "  for html_file in html_files:\n",
        "    # 本年度と前年度の営業利益を取得\n",
        "    try:\n",
        "      bs = BeautifulSoup(open(html_file, 'r').read(), 'lxml')\n",
        "      if bs.find('p').text.find('四半期連結損益計算書') != -1:\n",
        "        trs = bs.find_all('table')[0].find_all('tr')\n",
        "        for tr in trs:\n",
        "          if tr.text.find(\"四半期連結累計期間\") > -1:\n",
        "            terms = tr.text.strip().split(\"\\n\")\n",
        "            terms.remove('')\n",
        "            term = terms[-1]\n",
        "            pre_term = terms[0]\n",
        "          if tr.text.find(\"営業利益\") > -1:\n",
        "            values = tr.text.strip().split(\"\\n\")\n",
        "            values.remove('')\n",
        "            value = values[-1]\n",
        "            pre_value = values[1]\n",
        "    except:\n",
        "      continue\n",
        "    \n",
        "    if term != '' and value != '' and pre_term != '' and pre_value != '':\n",
        "      continue\n",
        "    \n",
        "    try:  # セプテーニなど\n",
        "      h4s = [p for p in bs.find_all('h4') if p.text.find('四半期連結財政状態計算書') != -1]\n",
        "      if len(h4s) > 0:\n",
        "          for i in h4s[0].next_elements:\n",
        "              if str(i)[0:3].find('tr') != -1:\n",
        "                  tr = i\n",
        "                  if value == '' and pre_value == '':\n",
        "                    if tr.text.find(\"営業利益\") > -1:\n",
        "                        values = tr.text.strip().replace('\\xa0', '').split(\"\\n\")\n",
        "                        values = [v for v in values if len(v) > 0]\n",
        "                        value = values[-1]\n",
        "                        pre_value = values[1]\n",
        "\n",
        "                  if term == '' and pre_term == '':\n",
        "                    if tr.text.find(\"四半期連結累計期間\") > -1:\n",
        "                        values = [td.text for td in tr.find_all('td')]\n",
        "                        values = [v for v in values if len(v) > 0 and v.find('\\n\\n') == -1]      \n",
        "                        term = values[-1]\n",
        "                        pre_term = values[1]\n",
        "    except:\n",
        "      continue\n",
        "\n",
        "    if term != '' and value != '' and pre_term != '' and pre_value != '':\n",
        "      continue\n",
        "    \n",
        "    try:  # ロコンドなど\n",
        "      ps = [p for p in bs.find_all('h5') if p.text.find('損益計算書') != -1] + [p for p in bs.find_all('h4') if p.text.find('損益計算書') != -1]\n",
        "      if len(ps) > 0:\n",
        "        for p in ps:\n",
        "          for i in p.next_elements:\n",
        "              if str(i)[0:3].find('tr') != -1:\n",
        "                  tr = i\n",
        "                  if value == '' and pre_value == '':\n",
        "                    if tr.text.find(\"営業利益\") > -1:\n",
        "                        values = tr.text.strip().split(\"\\n\")\n",
        "                        values = [v for v in values if len(v) > 0]\n",
        "                        value = values[-1]\n",
        "                        pre_value = values[1]\n",
        "                  if value == '' and pre_value == '':\n",
        "                    if tr.text.find(\"営業損失\") > -1:\n",
        "                        values = tr.text.strip().split(\"\\n\")\n",
        "                        values = [v for v in values if len(v) > 0]\n",
        "                        value = values[-1]\n",
        "                        pre_value = values[1]\n",
        "                  if term == '' and pre_term == '':\n",
        "                    if tr.text.find(\"自\") > -1 and tr.text.find(\"至\") > -1:\n",
        "                        values = [td.text for td in tr.find_all('td')]\n",
        "                        values = [v.replace('\\n','') for v in values if len(v) > 0 and v.find('\\n\\n') == -1]\n",
        "                        term = values[-1]\n",
        "                        pre_term = values[0]\n",
        "                      \n",
        "    except:\n",
        "      continue\n",
        "\n",
        "  return (term, value, pre_term, pre_value)"
      ],
      "metadata": {
        "id": "2baUqJaTQT5L"
      },
      "execution_count": 10,
      "outputs": []
    },
    {
      "cell_type": "code",
      "source": [
        "import pandas as pd\n",
        "\n",
        "path = \".\"\n",
        "files = os.listdir(path)\n",
        "extract_dir_names = [file_name for file_name in files if file_name.find('.zip') == -1 and file_name.find('Xbrl') != -1]\n",
        "\n",
        "dic ={}\n",
        "for extract_dir_name in extract_dir_names:\n",
        "  # zip解凍フォルダからhtmファイルを取得 → 本年度と前年度の営業利益を取得\n",
        "  term, value, pre_term, pre_value = get_values(extract_dir_name)\n",
        "\n",
        "  if term == \"\":\n",
        "    continue\n",
        " \n",
        "  dic[term] = {'value': value, 'pre_value': pre_value}\n",
        "\n",
        "dic "
      ],
      "metadata": {
        "colab": {
          "base_uri": "https://localhost:8080/"
        },
        "id": "MW1TPnzwQp5I",
        "outputId": "9695250f-9442-4fd9-d1fb-31544b9fa93e"
      },
      "execution_count": 11,
      "outputs": [
        {
          "output_type": "execute_result",
          "data": {
            "text/plain": [
              "{'当第３四半期連結累計期間(自\\xa02021年１月１日\\u3000至\\xa02021年９月30日)': {'value': '422',\n",
              "  'pre_value': '△3,354'},\n",
              " '当第２四半期連結累計期間(自\\xa02022年１月１日\\u3000至\\xa02022年６月30日)': {'value': '2,755',\n",
              "  'pre_value': '△107'},\n",
              " '当第１四半期連結累計期間(自\\xa02022年１月１日\\u3000至\\xa02022年３月31日)': {'value': '439',\n",
              "  'pre_value': '162'},\n",
              " '当事業年度(自\\xa02022年１月１日\\u3000至\\xa02022年12月31日)': {'value': '△175',\n",
              "  'pre_value': '△459'},\n",
              " '当第３四半期連結累計期間(自\\xa02022年１月１日\\u3000至\\xa02022年９月30日)': {'value': '5,227',\n",
              "  'pre_value': '422'},\n",
              " '当連結会計年度(自\\xa02021年１月１日\\u3000至\\xa02021年12月31日)': {'value': '1,898',\n",
              "  'pre_value': '△2,837'}}"
            ]
          },
          "metadata": {},
          "execution_count": 11
        }
      ]
    },
    {
      "cell_type": "markdown",
      "source": [
        "###取得した４半期決算の営業利益をグラフ化"
      ],
      "metadata": {
        "id": "_8M8-T9YRB9w"
      }
    },
    {
      "cell_type": "code",
      "source": [
        "import re\n",
        "\n",
        "# 取得したデータをデータフレーム化\n",
        "df = pd.DataFrame(dic.values(), index=dic.keys())\n",
        "df.columns = ['value', 'pre_value']\n",
        "\n",
        "df = df.query(\"pre_value != '\\xa0'\")\n",
        "\n",
        "# 営業利益のカラムを数値化\n",
        "df = df.replace(',', '', regex=True)\n",
        "df = df.replace('', '0', regex=True)\n",
        "df = df.replace('△', '-', regex=True)\n",
        "df[\"value\"] = df['value'].astype('float')\n",
        "df[\"pre_value\"] = df['pre_value'].astype('float')\n",
        "\n",
        "# 四半期の名前を正規化\n",
        "try:\n",
        "  df['title'] = [re.search('第(\\d*)四半期', x).group(0) for x in df.index]\n",
        "  df.index = df['title']\n",
        "except:\n",
        "  df['title'] = df.index #[re.search('第(\\d*)四半期', x).group(0) for x in df.index]\n",
        "  df.index = df['title']\n",
        "\n",
        "del df['title'] #df = df.drop('title', axis=1)\n",
        "\n",
        "# ソートして確認\n",
        "df = df.sort_index()\n",
        "\n",
        "df_total = pd.DataFrame({'value': [df['value'].sum()], 'pre_value': [df['pre_value'].sum()]}, index=[\"通期\"])\n",
        "df = pd.concat([df, df_total])\n",
        "\n",
        "df"
      ],
      "metadata": {
        "colab": {
          "base_uri": "https://localhost:8080/",
          "height": 269
        },
        "id": "UqCZ9aoLQ9ZI",
        "outputId": "ff479a4d-86f8-405d-d954-2ba1e65b0d8b"
      },
      "execution_count": 12,
      "outputs": [
        {
          "output_type": "execute_result",
          "data": {
            "text/plain": [
              "                                          value  pre_value\n",
              "当事業年度(自 2022年１月１日　至 2022年12月31日)         -175.0     -459.0\n",
              "当第１四半期連結累計期間(自 2022年１月１日　至 2022年３月31日)    439.0      162.0\n",
              "当第２四半期連結累計期間(自 2022年１月１日　至 2022年６月30日)   2755.0     -107.0\n",
              "当第３四半期連結累計期間(自 2021年１月１日　至 2021年９月30日)    422.0    -3354.0\n",
              "当第３四半期連結累計期間(自 2022年１月１日　至 2022年９月30日)   5227.0      422.0\n",
              "当連結会計年度(自 2021年１月１日　至 2021年12月31日)       1898.0    -2837.0\n",
              "通期                                      10566.0    -6173.0"
            ],
            "text/html": [
              "\n",
              "  <div id=\"df-17f72539-f91e-4515-b242-c6d34c650e6d\">\n",
              "    <div class=\"colab-df-container\">\n",
              "      <div>\n",
              "<style scoped>\n",
              "    .dataframe tbody tr th:only-of-type {\n",
              "        vertical-align: middle;\n",
              "    }\n",
              "\n",
              "    .dataframe tbody tr th {\n",
              "        vertical-align: top;\n",
              "    }\n",
              "\n",
              "    .dataframe thead th {\n",
              "        text-align: right;\n",
              "    }\n",
              "</style>\n",
              "<table border=\"1\" class=\"dataframe\">\n",
              "  <thead>\n",
              "    <tr style=\"text-align: right;\">\n",
              "      <th></th>\n",
              "      <th>value</th>\n",
              "      <th>pre_value</th>\n",
              "    </tr>\n",
              "  </thead>\n",
              "  <tbody>\n",
              "    <tr>\n",
              "      <th>当事業年度(自 2022年１月１日　至 2022年12月31日)</th>\n",
              "      <td>-175.0</td>\n",
              "      <td>-459.0</td>\n",
              "    </tr>\n",
              "    <tr>\n",
              "      <th>当第１四半期連結累計期間(自 2022年１月１日　至 2022年３月31日)</th>\n",
              "      <td>439.0</td>\n",
              "      <td>162.0</td>\n",
              "    </tr>\n",
              "    <tr>\n",
              "      <th>当第２四半期連結累計期間(自 2022年１月１日　至 2022年６月30日)</th>\n",
              "      <td>2755.0</td>\n",
              "      <td>-107.0</td>\n",
              "    </tr>\n",
              "    <tr>\n",
              "      <th>当第３四半期連結累計期間(自 2021年１月１日　至 2021年９月30日)</th>\n",
              "      <td>422.0</td>\n",
              "      <td>-3354.0</td>\n",
              "    </tr>\n",
              "    <tr>\n",
              "      <th>当第３四半期連結累計期間(自 2022年１月１日　至 2022年９月30日)</th>\n",
              "      <td>5227.0</td>\n",
              "      <td>422.0</td>\n",
              "    </tr>\n",
              "    <tr>\n",
              "      <th>当連結会計年度(自 2021年１月１日　至 2021年12月31日)</th>\n",
              "      <td>1898.0</td>\n",
              "      <td>-2837.0</td>\n",
              "    </tr>\n",
              "    <tr>\n",
              "      <th>通期</th>\n",
              "      <td>10566.0</td>\n",
              "      <td>-6173.0</td>\n",
              "    </tr>\n",
              "  </tbody>\n",
              "</table>\n",
              "</div>\n",
              "      <button class=\"colab-df-convert\" onclick=\"convertToInteractive('df-17f72539-f91e-4515-b242-c6d34c650e6d')\"\n",
              "              title=\"Convert this dataframe to an interactive table.\"\n",
              "              style=\"display:none;\">\n",
              "        \n",
              "  <svg xmlns=\"http://www.w3.org/2000/svg\" height=\"24px\"viewBox=\"0 0 24 24\"\n",
              "       width=\"24px\">\n",
              "    <path d=\"M0 0h24v24H0V0z\" fill=\"none\"/>\n",
              "    <path d=\"M18.56 5.44l.94 2.06.94-2.06 2.06-.94-2.06-.94-.94-2.06-.94 2.06-2.06.94zm-11 1L8.5 8.5l.94-2.06 2.06-.94-2.06-.94L8.5 2.5l-.94 2.06-2.06.94zm10 10l.94 2.06.94-2.06 2.06-.94-2.06-.94-.94-2.06-.94 2.06-2.06.94z\"/><path d=\"M17.41 7.96l-1.37-1.37c-.4-.4-.92-.59-1.43-.59-.52 0-1.04.2-1.43.59L10.3 9.45l-7.72 7.72c-.78.78-.78 2.05 0 2.83L4 21.41c.39.39.9.59 1.41.59.51 0 1.02-.2 1.41-.59l7.78-7.78 2.81-2.81c.8-.78.8-2.07 0-2.86zM5.41 20L4 18.59l7.72-7.72 1.47 1.35L5.41 20z\"/>\n",
              "  </svg>\n",
              "      </button>\n",
              "      \n",
              "  <style>\n",
              "    .colab-df-container {\n",
              "      display:flex;\n",
              "      flex-wrap:wrap;\n",
              "      gap: 12px;\n",
              "    }\n",
              "\n",
              "    .colab-df-convert {\n",
              "      background-color: #E8F0FE;\n",
              "      border: none;\n",
              "      border-radius: 50%;\n",
              "      cursor: pointer;\n",
              "      display: none;\n",
              "      fill: #1967D2;\n",
              "      height: 32px;\n",
              "      padding: 0 0 0 0;\n",
              "      width: 32px;\n",
              "    }\n",
              "\n",
              "    .colab-df-convert:hover {\n",
              "      background-color: #E2EBFA;\n",
              "      box-shadow: 0px 1px 2px rgba(60, 64, 67, 0.3), 0px 1px 3px 1px rgba(60, 64, 67, 0.15);\n",
              "      fill: #174EA6;\n",
              "    }\n",
              "\n",
              "    [theme=dark] .colab-df-convert {\n",
              "      background-color: #3B4455;\n",
              "      fill: #D2E3FC;\n",
              "    }\n",
              "\n",
              "    [theme=dark] .colab-df-convert:hover {\n",
              "      background-color: #434B5C;\n",
              "      box-shadow: 0px 1px 3px 1px rgba(0, 0, 0, 0.15);\n",
              "      filter: drop-shadow(0px 1px 2px rgba(0, 0, 0, 0.3));\n",
              "      fill: #FFFFFF;\n",
              "    }\n",
              "  </style>\n",
              "\n",
              "      <script>\n",
              "        const buttonEl =\n",
              "          document.querySelector('#df-17f72539-f91e-4515-b242-c6d34c650e6d button.colab-df-convert');\n",
              "        buttonEl.style.display =\n",
              "          google.colab.kernel.accessAllowed ? 'block' : 'none';\n",
              "\n",
              "        async function convertToInteractive(key) {\n",
              "          const element = document.querySelector('#df-17f72539-f91e-4515-b242-c6d34c650e6d');\n",
              "          const dataTable =\n",
              "            await google.colab.kernel.invokeFunction('convertToInteractive',\n",
              "                                                     [key], {});\n",
              "          if (!dataTable) return;\n",
              "\n",
              "          const docLinkHtml = 'Like what you see? Visit the ' +\n",
              "            '<a target=\"_blank\" href=https://colab.research.google.com/notebooks/data_table.ipynb>data table notebook</a>'\n",
              "            + ' to learn more about interactive tables.';\n",
              "          element.innerHTML = '';\n",
              "          dataTable['output_type'] = 'display_data';\n",
              "          await google.colab.output.renderOutput(dataTable, element);\n",
              "          const docLink = document.createElement('div');\n",
              "          docLink.innerHTML = docLinkHtml;\n",
              "          element.appendChild(docLink);\n",
              "        }\n",
              "      </script>\n",
              "    </div>\n",
              "  </div>\n",
              "  "
            ]
          },
          "metadata": {},
          "execution_count": 12
        }
      ]
    },
    {
      "cell_type": "code",
      "source": [
        "import plotly.graph_objects as go\n",
        "\n",
        "fig = go.Figure(data=[\n",
        "    go.Bar(name='前年度', x=df.index, y=df['pre_value']),\n",
        "    go.Bar(name='本年度', x=df.index, y=df['value'])\n",
        "])\n",
        "\n",
        "fig.update_layout(barmode='group')\n",
        "fig.show()"
      ],
      "metadata": {
        "colab": {
          "base_uri": "https://localhost:8080/",
          "height": 542
        },
        "id": "cLLsdd4cSbfa",
        "outputId": "e77243d4-c4fe-418f-b9d8-4d9b666d58fc"
      },
      "execution_count": 13,
      "outputs": [
        {
          "output_type": "display_data",
          "data": {
            "text/html": [
              "<html>\n",
              "<head><meta charset=\"utf-8\" /></head>\n",
              "<body>\n",
              "    <div>            <script src=\"https://cdnjs.cloudflare.com/ajax/libs/mathjax/2.7.5/MathJax.js?config=TeX-AMS-MML_SVG\"></script><script type=\"text/javascript\">if (window.MathJax && window.MathJax.Hub && window.MathJax.Hub.Config) {window.MathJax.Hub.Config({SVG: {font: \"STIX-Web\"}});}</script>                <script type=\"text/javascript\">window.PlotlyConfig = {MathJaxConfig: 'local'};</script>\n",
              "        <script src=\"https://cdn.plot.ly/plotly-2.18.2.min.js\"></script>                <div id=\"a0567cb9-263d-4778-81b2-83d0fcb9e24a\" class=\"plotly-graph-div\" style=\"height:525px; width:100%;\"></div>            <script type=\"text/javascript\">                                    window.PLOTLYENV=window.PLOTLYENV || {};                                    if (document.getElementById(\"a0567cb9-263d-4778-81b2-83d0fcb9e24a\")) {                    Plotly.newPlot(                        \"a0567cb9-263d-4778-81b2-83d0fcb9e24a\",                        [{\"name\":\"\\u524d\\u5e74\\u5ea6\",\"x\":[\"\\u5f53\\u4e8b\\u696d\\u5e74\\u5ea6(\\u81ea\\u00a02022\\u5e74\\uff11\\u6708\\uff11\\u65e5\\u3000\\u81f3\\u00a02022\\u5e7412\\u670831\\u65e5)\",\"\\u5f53\\u7b2c\\uff11\\u56db\\u534a\\u671f\\u9023\\u7d50\\u7d2f\\u8a08\\u671f\\u9593(\\u81ea\\u00a02022\\u5e74\\uff11\\u6708\\uff11\\u65e5\\u3000\\u81f3\\u00a02022\\u5e74\\uff13\\u670831\\u65e5)\",\"\\u5f53\\u7b2c\\uff12\\u56db\\u534a\\u671f\\u9023\\u7d50\\u7d2f\\u8a08\\u671f\\u9593(\\u81ea\\u00a02022\\u5e74\\uff11\\u6708\\uff11\\u65e5\\u3000\\u81f3\\u00a02022\\u5e74\\uff16\\u670830\\u65e5)\",\"\\u5f53\\u7b2c\\uff13\\u56db\\u534a\\u671f\\u9023\\u7d50\\u7d2f\\u8a08\\u671f\\u9593(\\u81ea\\u00a02021\\u5e74\\uff11\\u6708\\uff11\\u65e5\\u3000\\u81f3\\u00a02021\\u5e74\\uff19\\u670830\\u65e5)\",\"\\u5f53\\u7b2c\\uff13\\u56db\\u534a\\u671f\\u9023\\u7d50\\u7d2f\\u8a08\\u671f\\u9593(\\u81ea\\u00a02022\\u5e74\\uff11\\u6708\\uff11\\u65e5\\u3000\\u81f3\\u00a02022\\u5e74\\uff19\\u670830\\u65e5)\",\"\\u5f53\\u9023\\u7d50\\u4f1a\\u8a08\\u5e74\\u5ea6(\\u81ea\\u00a02021\\u5e74\\uff11\\u6708\\uff11\\u65e5\\u3000\\u81f3\\u00a02021\\u5e7412\\u670831\\u65e5)\",\"\\u901a\\u671f\"],\"y\":[-459.0,162.0,-107.0,-3354.0,422.0,-2837.0,-6173.0],\"type\":\"bar\"},{\"name\":\"\\u672c\\u5e74\\u5ea6\",\"x\":[\"\\u5f53\\u4e8b\\u696d\\u5e74\\u5ea6(\\u81ea\\u00a02022\\u5e74\\uff11\\u6708\\uff11\\u65e5\\u3000\\u81f3\\u00a02022\\u5e7412\\u670831\\u65e5)\",\"\\u5f53\\u7b2c\\uff11\\u56db\\u534a\\u671f\\u9023\\u7d50\\u7d2f\\u8a08\\u671f\\u9593(\\u81ea\\u00a02022\\u5e74\\uff11\\u6708\\uff11\\u65e5\\u3000\\u81f3\\u00a02022\\u5e74\\uff13\\u670831\\u65e5)\",\"\\u5f53\\u7b2c\\uff12\\u56db\\u534a\\u671f\\u9023\\u7d50\\u7d2f\\u8a08\\u671f\\u9593(\\u81ea\\u00a02022\\u5e74\\uff11\\u6708\\uff11\\u65e5\\u3000\\u81f3\\u00a02022\\u5e74\\uff16\\u670830\\u65e5)\",\"\\u5f53\\u7b2c\\uff13\\u56db\\u534a\\u671f\\u9023\\u7d50\\u7d2f\\u8a08\\u671f\\u9593(\\u81ea\\u00a02021\\u5e74\\uff11\\u6708\\uff11\\u65e5\\u3000\\u81f3\\u00a02021\\u5e74\\uff19\\u670830\\u65e5)\",\"\\u5f53\\u7b2c\\uff13\\u56db\\u534a\\u671f\\u9023\\u7d50\\u7d2f\\u8a08\\u671f\\u9593(\\u81ea\\u00a02022\\u5e74\\uff11\\u6708\\uff11\\u65e5\\u3000\\u81f3\\u00a02022\\u5e74\\uff19\\u670830\\u65e5)\",\"\\u5f53\\u9023\\u7d50\\u4f1a\\u8a08\\u5e74\\u5ea6(\\u81ea\\u00a02021\\u5e74\\uff11\\u6708\\uff11\\u65e5\\u3000\\u81f3\\u00a02021\\u5e7412\\u670831\\u65e5)\",\"\\u901a\\u671f\"],\"y\":[-175.0,439.0,2755.0,422.0,5227.0,1898.0,10566.0],\"type\":\"bar\"}],                        {\"template\":{\"data\":{\"histogram2dcontour\":[{\"type\":\"histogram2dcontour\",\"colorbar\":{\"outlinewidth\":0,\"ticks\":\"\"},\"colorscale\":[[0.0,\"#0d0887\"],[0.1111111111111111,\"#46039f\"],[0.2222222222222222,\"#7201a8\"],[0.3333333333333333,\"#9c179e\"],[0.4444444444444444,\"#bd3786\"],[0.5555555555555556,\"#d8576b\"],[0.6666666666666666,\"#ed7953\"],[0.7777777777777778,\"#fb9f3a\"],[0.8888888888888888,\"#fdca26\"],[1.0,\"#f0f921\"]]}],\"choropleth\":[{\"type\":\"choropleth\",\"colorbar\":{\"outlinewidth\":0,\"ticks\":\"\"}}],\"histogram2d\":[{\"type\":\"histogram2d\",\"colorbar\":{\"outlinewidth\":0,\"ticks\":\"\"},\"colorscale\":[[0.0,\"#0d0887\"],[0.1111111111111111,\"#46039f\"],[0.2222222222222222,\"#7201a8\"],[0.3333333333333333,\"#9c179e\"],[0.4444444444444444,\"#bd3786\"],[0.5555555555555556,\"#d8576b\"],[0.6666666666666666,\"#ed7953\"],[0.7777777777777778,\"#fb9f3a\"],[0.8888888888888888,\"#fdca26\"],[1.0,\"#f0f921\"]]}],\"heatmap\":[{\"type\":\"heatmap\",\"colorbar\":{\"outlinewidth\":0,\"ticks\":\"\"},\"colorscale\":[[0.0,\"#0d0887\"],[0.1111111111111111,\"#46039f\"],[0.2222222222222222,\"#7201a8\"],[0.3333333333333333,\"#9c179e\"],[0.4444444444444444,\"#bd3786\"],[0.5555555555555556,\"#d8576b\"],[0.6666666666666666,\"#ed7953\"],[0.7777777777777778,\"#fb9f3a\"],[0.8888888888888888,\"#fdca26\"],[1.0,\"#f0f921\"]]}],\"heatmapgl\":[{\"type\":\"heatmapgl\",\"colorbar\":{\"outlinewidth\":0,\"ticks\":\"\"},\"colorscale\":[[0.0,\"#0d0887\"],[0.1111111111111111,\"#46039f\"],[0.2222222222222222,\"#7201a8\"],[0.3333333333333333,\"#9c179e\"],[0.4444444444444444,\"#bd3786\"],[0.5555555555555556,\"#d8576b\"],[0.6666666666666666,\"#ed7953\"],[0.7777777777777778,\"#fb9f3a\"],[0.8888888888888888,\"#fdca26\"],[1.0,\"#f0f921\"]]}],\"contourcarpet\":[{\"type\":\"contourcarpet\",\"colorbar\":{\"outlinewidth\":0,\"ticks\":\"\"}}],\"contour\":[{\"type\":\"contour\",\"colorbar\":{\"outlinewidth\":0,\"ticks\":\"\"},\"colorscale\":[[0.0,\"#0d0887\"],[0.1111111111111111,\"#46039f\"],[0.2222222222222222,\"#7201a8\"],[0.3333333333333333,\"#9c179e\"],[0.4444444444444444,\"#bd3786\"],[0.5555555555555556,\"#d8576b\"],[0.6666666666666666,\"#ed7953\"],[0.7777777777777778,\"#fb9f3a\"],[0.8888888888888888,\"#fdca26\"],[1.0,\"#f0f921\"]]}],\"surface\":[{\"type\":\"surface\",\"colorbar\":{\"outlinewidth\":0,\"ticks\":\"\"},\"colorscale\":[[0.0,\"#0d0887\"],[0.1111111111111111,\"#46039f\"],[0.2222222222222222,\"#7201a8\"],[0.3333333333333333,\"#9c179e\"],[0.4444444444444444,\"#bd3786\"],[0.5555555555555556,\"#d8576b\"],[0.6666666666666666,\"#ed7953\"],[0.7777777777777778,\"#fb9f3a\"],[0.8888888888888888,\"#fdca26\"],[1.0,\"#f0f921\"]]}],\"mesh3d\":[{\"type\":\"mesh3d\",\"colorbar\":{\"outlinewidth\":0,\"ticks\":\"\"}}],\"scatter\":[{\"fillpattern\":{\"fillmode\":\"overlay\",\"size\":10,\"solidity\":0.2},\"type\":\"scatter\"}],\"parcoords\":[{\"type\":\"parcoords\",\"line\":{\"colorbar\":{\"outlinewidth\":0,\"ticks\":\"\"}}}],\"scatterpolargl\":[{\"type\":\"scatterpolargl\",\"marker\":{\"colorbar\":{\"outlinewidth\":0,\"ticks\":\"\"}}}],\"bar\":[{\"error_x\":{\"color\":\"#2a3f5f\"},\"error_y\":{\"color\":\"#2a3f5f\"},\"marker\":{\"line\":{\"color\":\"#E5ECF6\",\"width\":0.5},\"pattern\":{\"fillmode\":\"overlay\",\"size\":10,\"solidity\":0.2}},\"type\":\"bar\"}],\"scattergeo\":[{\"type\":\"scattergeo\",\"marker\":{\"colorbar\":{\"outlinewidth\":0,\"ticks\":\"\"}}}],\"scatterpolar\":[{\"type\":\"scatterpolar\",\"marker\":{\"colorbar\":{\"outlinewidth\":0,\"ticks\":\"\"}}}],\"histogram\":[{\"marker\":{\"pattern\":{\"fillmode\":\"overlay\",\"size\":10,\"solidity\":0.2}},\"type\":\"histogram\"}],\"scattergl\":[{\"type\":\"scattergl\",\"marker\":{\"colorbar\":{\"outlinewidth\":0,\"ticks\":\"\"}}}],\"scatter3d\":[{\"type\":\"scatter3d\",\"line\":{\"colorbar\":{\"outlinewidth\":0,\"ticks\":\"\"}},\"marker\":{\"colorbar\":{\"outlinewidth\":0,\"ticks\":\"\"}}}],\"scattermapbox\":[{\"type\":\"scattermapbox\",\"marker\":{\"colorbar\":{\"outlinewidth\":0,\"ticks\":\"\"}}}],\"scatterternary\":[{\"type\":\"scatterternary\",\"marker\":{\"colorbar\":{\"outlinewidth\":0,\"ticks\":\"\"}}}],\"scattercarpet\":[{\"type\":\"scattercarpet\",\"marker\":{\"colorbar\":{\"outlinewidth\":0,\"ticks\":\"\"}}}],\"carpet\":[{\"aaxis\":{\"endlinecolor\":\"#2a3f5f\",\"gridcolor\":\"white\",\"linecolor\":\"white\",\"minorgridcolor\":\"white\",\"startlinecolor\":\"#2a3f5f\"},\"baxis\":{\"endlinecolor\":\"#2a3f5f\",\"gridcolor\":\"white\",\"linecolor\":\"white\",\"minorgridcolor\":\"white\",\"startlinecolor\":\"#2a3f5f\"},\"type\":\"carpet\"}],\"table\":[{\"cells\":{\"fill\":{\"color\":\"#EBF0F8\"},\"line\":{\"color\":\"white\"}},\"header\":{\"fill\":{\"color\":\"#C8D4E3\"},\"line\":{\"color\":\"white\"}},\"type\":\"table\"}],\"barpolar\":[{\"marker\":{\"line\":{\"color\":\"#E5ECF6\",\"width\":0.5},\"pattern\":{\"fillmode\":\"overlay\",\"size\":10,\"solidity\":0.2}},\"type\":\"barpolar\"}],\"pie\":[{\"automargin\":true,\"type\":\"pie\"}]},\"layout\":{\"autotypenumbers\":\"strict\",\"colorway\":[\"#636efa\",\"#EF553B\",\"#00cc96\",\"#ab63fa\",\"#FFA15A\",\"#19d3f3\",\"#FF6692\",\"#B6E880\",\"#FF97FF\",\"#FECB52\"],\"font\":{\"color\":\"#2a3f5f\"},\"hovermode\":\"closest\",\"hoverlabel\":{\"align\":\"left\"},\"paper_bgcolor\":\"white\",\"plot_bgcolor\":\"#E5ECF6\",\"polar\":{\"bgcolor\":\"#E5ECF6\",\"angularaxis\":{\"gridcolor\":\"white\",\"linecolor\":\"white\",\"ticks\":\"\"},\"radialaxis\":{\"gridcolor\":\"white\",\"linecolor\":\"white\",\"ticks\":\"\"}},\"ternary\":{\"bgcolor\":\"#E5ECF6\",\"aaxis\":{\"gridcolor\":\"white\",\"linecolor\":\"white\",\"ticks\":\"\"},\"baxis\":{\"gridcolor\":\"white\",\"linecolor\":\"white\",\"ticks\":\"\"},\"caxis\":{\"gridcolor\":\"white\",\"linecolor\":\"white\",\"ticks\":\"\"}},\"coloraxis\":{\"colorbar\":{\"outlinewidth\":0,\"ticks\":\"\"}},\"colorscale\":{\"sequential\":[[0.0,\"#0d0887\"],[0.1111111111111111,\"#46039f\"],[0.2222222222222222,\"#7201a8\"],[0.3333333333333333,\"#9c179e\"],[0.4444444444444444,\"#bd3786\"],[0.5555555555555556,\"#d8576b\"],[0.6666666666666666,\"#ed7953\"],[0.7777777777777778,\"#fb9f3a\"],[0.8888888888888888,\"#fdca26\"],[1.0,\"#f0f921\"]],\"sequentialminus\":[[0.0,\"#0d0887\"],[0.1111111111111111,\"#46039f\"],[0.2222222222222222,\"#7201a8\"],[0.3333333333333333,\"#9c179e\"],[0.4444444444444444,\"#bd3786\"],[0.5555555555555556,\"#d8576b\"],[0.6666666666666666,\"#ed7953\"],[0.7777777777777778,\"#fb9f3a\"],[0.8888888888888888,\"#fdca26\"],[1.0,\"#f0f921\"]],\"diverging\":[[0,\"#8e0152\"],[0.1,\"#c51b7d\"],[0.2,\"#de77ae\"],[0.3,\"#f1b6da\"],[0.4,\"#fde0ef\"],[0.5,\"#f7f7f7\"],[0.6,\"#e6f5d0\"],[0.7,\"#b8e186\"],[0.8,\"#7fbc41\"],[0.9,\"#4d9221\"],[1,\"#276419\"]]},\"xaxis\":{\"gridcolor\":\"white\",\"linecolor\":\"white\",\"ticks\":\"\",\"title\":{\"standoff\":15},\"zerolinecolor\":\"white\",\"automargin\":true,\"zerolinewidth\":2},\"yaxis\":{\"gridcolor\":\"white\",\"linecolor\":\"white\",\"ticks\":\"\",\"title\":{\"standoff\":15},\"zerolinecolor\":\"white\",\"automargin\":true,\"zerolinewidth\":2},\"scene\":{\"xaxis\":{\"backgroundcolor\":\"#E5ECF6\",\"gridcolor\":\"white\",\"linecolor\":\"white\",\"showbackground\":true,\"ticks\":\"\",\"zerolinecolor\":\"white\",\"gridwidth\":2},\"yaxis\":{\"backgroundcolor\":\"#E5ECF6\",\"gridcolor\":\"white\",\"linecolor\":\"white\",\"showbackground\":true,\"ticks\":\"\",\"zerolinecolor\":\"white\",\"gridwidth\":2},\"zaxis\":{\"backgroundcolor\":\"#E5ECF6\",\"gridcolor\":\"white\",\"linecolor\":\"white\",\"showbackground\":true,\"ticks\":\"\",\"zerolinecolor\":\"white\",\"gridwidth\":2}},\"shapedefaults\":{\"line\":{\"color\":\"#2a3f5f\"}},\"annotationdefaults\":{\"arrowcolor\":\"#2a3f5f\",\"arrowhead\":0,\"arrowwidth\":1},\"geo\":{\"bgcolor\":\"white\",\"landcolor\":\"#E5ECF6\",\"subunitcolor\":\"white\",\"showland\":true,\"showlakes\":true,\"lakecolor\":\"white\"},\"title\":{\"x\":0.05},\"mapbox\":{\"style\":\"light\"}}},\"barmode\":\"group\"},                        {\"responsive\": true}                    ).then(function(){\n",
              "                            \n",
              "var gd = document.getElementById('a0567cb9-263d-4778-81b2-83d0fcb9e24a');\n",
              "var x = new MutationObserver(function (mutations, observer) {{\n",
              "        var display = window.getComputedStyle(gd).display;\n",
              "        if (!display || display === 'none') {{\n",
              "            console.log([gd, 'removed!']);\n",
              "            Plotly.purge(gd);\n",
              "            observer.disconnect();\n",
              "        }}\n",
              "}});\n",
              "\n",
              "// Listen for the removal of the full notebook cells\n",
              "var notebookContainer = gd.closest('#notebook-container');\n",
              "if (notebookContainer) {{\n",
              "    x.observe(notebookContainer, {childList: true});\n",
              "}}\n",
              "\n",
              "// Listen for the clearing of the current output cell\n",
              "var outputEl = gd.closest('.output');\n",
              "if (outputEl) {{\n",
              "    x.observe(outputEl, {childList: true});\n",
              "}}\n",
              "\n",
              "                        })                };                            </script>        </div>\n",
              "</body>\n",
              "</html>"
            ]
          },
          "metadata": {}
        }
      ]
    }
  ]
}